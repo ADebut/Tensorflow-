{
 "cells": [
  {
   "cell_type": "markdown",
   "metadata": {},
   "source": [
    "# DenseNet\n",
    "因为 ResNet 提出了跨层链接的思想，这直接影响了随后出现的卷积网络架构，其中最有名的就是 cvpr 2017 的 best paper，DenseNet。\n",
    "\n",
    "DenseNet 和 ResNet 不同在于 ResNet 是跨层求和，而 DenseNet 是跨层将特征在通道维度进行拼接，下面可以看看他们两者的图示\n",
    "\n",
    "![](https://ws4.sinaimg.cn/large/006tNc79ly1fmpvj5vkfhj30uw0anq73.jpg)\n",
    "\n",
    "![](https://ws1.sinaimg.cn/large/006tNc79ly1fmpvj7fxd1j30vb0eyzqf.jpg)"
   ]
  },
  {
   "cell_type": "markdown",
   "metadata": {},
   "source": [
    "第一张图是 ResNet，第二张图是 DenseNet，因为是在通道维度进行特征的拼接，所以底层的输出会保留进入所有后面的层，这能够更好的保证梯度的传播，同时能够使用低维的特征和高维的特征进行联合训练，能够得到更好的结果。"
   ]
  },
  {
   "cell_type": "markdown",
   "metadata": {},
   "source": [
    "DenseNet 主要由 dense block 构成，下面我们来实现一个 densen block"
   ]
  },
  {
   "cell_type": "code",
   "execution_count": null,
   "metadata": {},
   "outputs": [],
   "source": [
    "from __future__ import print_function\n",
    "from __future__ import division\n",
    "from __future__ import absolute_import\n",
    "\n",
    "import tensorflow as tf\n",
    "from utils import cifar10_input"
   ]
  },
  {
   "cell_type": "code",
   "execution_count": null,
   "metadata": {},
   "outputs": [],
   "source": [
    "batch_size = 64\n",
    "\n",
    "train_imgs, train_labels, val_imgs, val_labels = cifar10_input.load_data(data_dir='cifar10_data', image_size=96)"
   ]
  },
  {
   "cell_type": "code",
   "execution_count": null,
   "metadata": {},
   "outputs": [],
   "source": [
    "import tensorflow.contrib.slim as slim"
   ]
  },
  {
   "cell_type": "markdown",
   "metadata": {},
   "source": [
    "### 构建基本卷积单元"
   ]
  },
  {
   "cell_type": "code",
   "execution_count": null,
   "metadata": {},
   "outputs": [],
   "source": [
    "def bn_relu_conv(x, out_depth, scope='dense_basic_conv', reuse=None):\n",
    "    # 基本卷积单元是: bn->relu-conv\n",
    "    with tf.variable_scope(scope, reuse=reuse):\n",
    "        net = slim.batch_norm(x, activation_fn=None, scope='bn')\n",
    "        net = tf.nn.relu(net, name='activation')\n",
    "        net = slim.conv2d(net, out_depth, 3, activation_fn=None, normalizer_fn=None, biases_initializer=None, scope='conv')\n",
    "        \n",
    "        return net"
   ]
  },
  {
   "cell_type": "markdown",
   "metadata": {},
   "source": [
    "### 构建`densenet`的基本单元"
   ]
  },
  {
   "cell_type": "code",
   "execution_count": null,
   "metadata": {},
   "outputs": [],
   "source": [
    "def dense_block(x, growth_rate, num_layers, scope='dense_block', reuse=None):\n",
    "    in_depth = x.get_shape().as_list()[-1]\n",
    "    \n",
    "    with tf.variable_scope(scope, reuse=reuse):\n",
    "        net = x\n",
    "        for i in range(num_layers):\n",
    "            out = bn_relu_conv(net, growth_rate, scope='block%d' % i)\n",
    "            # 将前面所有的输出连接到一起作为下一个基本卷积单元的输入\n",
    "            net = tf.concat([net, out], axis=-1)\n",
    "            \n",
    "        return net"
   ]
  },
  {
   "cell_type": "markdown",
   "metadata": {},
   "source": [
    "### 构建`transition`层"
   ]
  },
  {
   "cell_type": "code",
   "execution_count": null,
   "metadata": {},
   "outputs": [],
   "source": [
    "def transition(x, out_depth, scope='transition', reuse=None):\n",
    "    in_depth = x.get_shape().as_list()[-1]\n",
    "    \n",
    "    with tf.variable_scope(scope, reuse=reuse):\n",
    "        net = slim.batch_norm(x, activation_fn=None, scope='bn')\n",
    "        net = tf.nn.relu(net, name='activation')\n",
    "        net = slim.conv2d(net, out_depth, 1, activation_fn=None, normalizer_fn=None, biases_initializer=None, scope='conv')\n",
    "        net = slim.avg_pool2d(net, 2, 2, scope='avg_pool')\n",
    "        \n",
    "        return net"
   ]
  },
  {
   "cell_type": "markdown",
   "metadata": {},
   "source": [
    "### 构建`densenet`整体结构"
   ]
  },
  {
   "cell_type": "code",
   "execution_count": null,
   "metadata": {},
   "outputs": [],
   "source": [
    "def densenet(x, num_classes, growth_rate=32, block_layers=[6, 12, 24, 16], is_training=None, scope='densenet', reuse=None, verbose=False):\n",
    "    with tf.variable_scope(scope, reuse=reuse):\n",
    "        with slim.arg_scope([slim.batch_norm], is_training=is_training):\n",
    "            \n",
    "            if verbose:\n",
    "                print('input: {}'.format(x.shape))\n",
    "            \n",
    "            with tf.variable_scope('block0'):\n",
    "                net = slim.conv2d(x, 64, [7, 7], stride=2, normalizer_fn=None, activation_fn=None, scope='conv_7x7')\n",
    "                net = slim.batch_norm(net, activation_fn=None, scope='bn')\n",
    "                net = tf.nn.relu(net, name='activation')\n",
    "                net = slim.max_pool2d(net, [3, 3], stride=2, scope='max_pool')\n",
    "\n",
    "                if verbose:\n",
    "                    print('block0: {}'.format(net.shape))\n",
    "\n",
    "            # 循环创建`dense_block`和`transition`\n",
    "            for i, num_layers in enumerate(block_layers):\n",
    "                with tf.variable_scope('block%d' % (i + 1)):\n",
    "                    net = dense_block(net, growth_rate, num_layers)\n",
    "                    if i != len(block_layers) - 1:\n",
    "                        current_depth = net.get_shape().as_list()[-1]\n",
    "                        net = transition(net, current_depth // 2)\n",
    "\n",
    "                if verbose:\n",
    "                    print('block{}: {}'.format(i+1, net.shape))\n",
    "\n",
    "            with tf.variable_scope('block%d' % (len(block_layers) + 1)):\n",
    "                net = slim.batch_norm(net, activation_fn=None, scope='bn')\n",
    "                net = tf.nn.relu(net, name='activation')\n",
    "                net = tf.reduce_mean(net, [1, 2], name='global_pool', keep_dims=True)\n",
    "\n",
    "                if verbose:\n",
    "                    print('block{}: {}'.format(len(block_layers) + 1, net.shape))\n",
    "\n",
    "            with tf.variable_scope('classification'):\n",
    "                net = slim.flatten(net, scope='flatten')\n",
    "                net = slim.fully_connected(net, num_classes, activation_fn=None, normalizer_fn=None, scope='logit')\n",
    "\n",
    "                if verbose:\n",
    "                    print('classification: {}'.format(net.shape))\n",
    "\n",
    "                return net"
   ]
  },
  {
   "cell_type": "code",
   "execution_count": null,
   "metadata": {},
   "outputs": [],
   "source": [
    "with slim.arg_scope([slim.conv2d], activation_fn=tf.nn.relu, normalizer_fn=slim.batch_norm) as sc:\n",
    "    conv_scope = sc"
   ]
  },
  {
   "cell_type": "code",
   "execution_count": null,
   "metadata": {},
   "outputs": [],
   "source": [
    "is_training = tf.placeholder(tf.bool, name='is_training')\n",
    "\n",
    "with slim.arg_scope(conv_scope):\n",
    "    train_out = densenet(train_imgs, 10, is_training=is_training, verbose=True)\n",
    "    val_out = densenet(val_imgs, 10, is_training=is_training, reuse=True)"
   ]
  },
  {
   "cell_type": "markdown",
   "metadata": {},
   "source": [
    "### 构建训练"
   ]
  },
  {
   "cell_type": "code",
   "execution_count": null,
   "metadata": {},
   "outputs": [],
   "source": [
    "with tf.variable_scope('loss'):\n",
    "    train_loss = tf.losses.sparse_softmax_cross_entropy(labels=train_labels, logits=train_out, scope='train')\n",
    "    val_loss = tf.losses.sparse_softmax_cross_entropy(labels=val_labels, logits=val_out, scope='val')"
   ]
  },
  {
   "cell_type": "code",
   "execution_count": null,
   "metadata": {},
   "outputs": [],
   "source": [
    "with tf.name_scope('accuracy'):\n",
    "    with tf.name_scope('train'):\n",
    "        train_acc = tf.reduce_mean(tf.cast(tf.equal(tf.argmax(train_out, axis=-1, output_type=tf.int32), train_labels), tf.float32))\n",
    "    with tf.name_scope('val'):\n",
    "        val_acc = tf.reduce_mean(tf.cast(tf.equal(tf.argmax(val_out, axis=-1, output_type=tf.int32), val_labels), tf.float32))"
   ]
  },
  {
   "cell_type": "code",
   "execution_count": null,
   "metadata": {},
   "outputs": [],
   "source": [
    "lr = 0.01\n",
    "\n",
    "opt = tf.train.MomentumOptimizer(lr, momentum=0.9)"
   ]
  },
  {
   "cell_type": "code",
   "execution_count": null,
   "metadata": {},
   "outputs": [],
   "source": [
    "update_ops = tf.get_collection(tf.GraphKeys.UPDATE_OPS)\n",
    "with tf.control_dependencies(update_ops):\n",
    "    train_op = opt.minimize(train_loss)"
   ]
  },
  {
   "cell_type": "markdown",
   "metadata": {},
   "source": [
    "### 开始训练"
   ]
  },
  {
   "cell_type": "code",
   "execution_count": null,
   "metadata": {},
   "outputs": [],
   "source": [
    "from utils.learning import train_with_bn"
   ]
  },
  {
   "cell_type": "code",
   "execution_count": null,
   "metadata": {},
   "outputs": [],
   "source": [
    "train_with_bn(train_op, train_loss, train_acc, val_loss, val_acc, 20000, is_training)"
   ]
  }
 ],
 "metadata": {
  "kernelspec": {
   "display_name": "Python 2",
   "language": "python",
   "name": "python2"
  },
  "language_info": {
   "codemirror_mode": {
    "name": "ipython",
    "version": 2
   },
   "file_extension": ".py",
   "mimetype": "text/x-python",
   "name": "python",
   "nbconvert_exporter": "python",
   "pygments_lexer": "ipython2",
   "version": "2.7.12"
  }
 },
 "nbformat": 4,
 "nbformat_minor": 2
}
